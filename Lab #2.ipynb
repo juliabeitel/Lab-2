{
 "cells": [
  {
   "cell_type": "markdown",
   "metadata": {},
   "source": [
    "## Statistical Analysis of Starbucks Nutritional Drink Data\n",
    "Julia Beitel - Big Data - September 14, 2018\n",
    "\n"
   ]
  },
  {
   "cell_type": "markdown",
   "metadata": {},
   "source": [
    "### Abstract \n",
    "In this lab I will be analyizing the Starbucks Nutritional Drink data. Within my analysis, I will be answering the following questions that the data posed: Which drink has the most and least of each nutrional section? How many different drinks are there? What percentage of drinks have 2% milk?"
   ]
  },
  {
   "cell_type": "markdown",
   "metadata": {},
   "source": [
    "### Dataset Preparation\n",
    "The given data represents the following columns: Beverage category, beverage name, beverage preparation, calories, total fat, trans fat, saturated fat, sodium, total carbs, cholestorol, dietary fiber, sugar, protein, vitamin A %, vitamin C %, iron %, and caffeine.\n",
    "This data was uploaded on July 30th of 2018 from the following source: https://www.kaggle.com/starbucks/starbucks-menu"
   ]
  },
  {
   "cell_type": "markdown",
   "metadata": {},
   "source": [
    "#### Open and Download"
   ]
  },
  {
   "cell_type": "code",
   "execution_count": 26,
   "metadata": {},
   "outputs": [
    {
     "name": "stdout",
     "output_type": "stream",
     "text": [
      "['Beverage_category,Beverage,Beverage_prep,Calories, Total Fat (g),Trans Fat (g) ,Saturated Fat (g), Sodium (mg), Total Carbohydrates (g) ,Cholesterol (mg), Dietary Fibre (g), Sugars (g), Protein (g) ,Vitamin A (% DV) ,Vitamin C (% DV), Calcium (% DV) ,Iron (% DV) ,Caffeine (mg)\\n', 'Coffee,Brewed Coffee,Short,3,0.1,0,0,0,5,0,0,0,0.3,0%,0%,0%,0%,175\\n', 'Coffee,Brewed Coffee,Tall,4,0.1,0,0,0,10,0,0,0,0.5,0%,0%,0%,0%,260\\n', 'Coffee,Brewed Coffee,Grande,5,0.1,0,0,0,10,0,0,0,1,0%,0%,0%,0%,330\\n', 'Coffee,Brewed Coffee,Venti,5,0.1,0,0,0,10,0,0,0,1,0%,0%,2%,0%,410\\n']\n"
     ]
    }
   ],
   "source": [
    "#first i opened the file\n",
    "data_file = open(\"starbucks_drinkMenu_expanded.csv\", \"r\");\n",
    "\n",
    "#then i created an empty list to store the nutritional data\n",
    "drink_data = [];\n",
    "\n",
    "#then i put all columns from the drink data file into our list\n",
    "for ii in data_file:\n",
    "    drink_data.append(ii);\n",
    "    \n",
    "#then i closed the file\n",
    "data_file.close();\n",
    "print(drink_data[:5])"
   ]
  },
  {
   "cell_type": "markdown",
   "metadata": {},
   "source": [
    "#### Removing Columns and Sorting to Lists"
   ]
  },
  {
   "cell_type": "markdown",
   "metadata": {},
   "source": [
    "Next, I removed the column header and the other unwanted columns of data. These columns include vitamin A %, vitamin C %, and iron %. Then, I  split the data into the following  lists: Beverage category, beverage name, beverage preparation, calories, total fat, trans fat, saturated fat, sodium, total carbs, cholestorol, dietary fiber, sugar, protein, and caffeine.\n",
    "I did not clean up any commas, nor did I edit the original csv file in any way. Additionally, I did not delete any columns, I merely did not creat lists for the following columns: trans fat, saturated fat, dietary fiber, vitamin A %, vitamin C %, and iron %."
   ]
  },
  {
   "cell_type": "code",
   "execution_count": 27,
   "metadata": {},
   "outputs": [
    {
     "name": "stdout",
     "output_type": "stream",
     "text": [
      "['Coffee', 'Coffee', 'Coffee', 'Coffee', 'Classic Espresso Drinks', 'Classic Espresso Drinks', 'Classic Espresso Drinks', 'Classic Espresso Drinks', 'Classic Espresso Drinks', 'Classic Espresso Drinks']\n"
     ]
    }
   ],
   "source": [
    "#here i removed the first element (this is the column header)\n",
    "del drink_data[0];\n",
    "\n",
    "#then i createed empty lists for each of the different corresponding columns\n",
    "beverage_category = [];\n",
    "drink_name = [];\n",
    "beverage_prep = [];\n",
    "calories = [];\n",
    "total_fat = [];\n",
    "sodium = [];\n",
    "cholesterol = [];\n",
    "sugar = [];\n",
    "protein = [];\n",
    "caffeine = [];\n",
    "\n",
    "for jj in range(len(drink_data)):\n",
    "    #next i (using a for loop and the .split fxn) split each of the data units using commas to separate them\n",
    "    drink_data[jj] = drink_data[jj].split(\",\")\n",
    "    \n",
    "    #then i added the data to each specific list for it's corresponding column\n",
    "    beverage_category.append(str(drink_data[jj][0]))\n",
    "    drink_name.append(str(drink_data[jj][1]))\n",
    "    beverage_prep.append(str(drink_data[jj][2]))\n",
    "    calories.append(float(drink_data[jj][3]))\n",
    "    total_fat.append(drink_data[jj][4])\n",
    "    sodium.append(drink_data[jj][7])\n",
    "    cholesterol.append(float(drink_data[jj][9]))\n",
    "    sugar.append(float(drink_data[jj][11]))\n",
    "    protein.append(float(drink_data[jj][12]))\n",
    "    caffeine.append(drink_data[jj][17])\n",
    "\n",
    "print(beverage_category[:10])"
   ]
  },
  {
   "cell_type": "markdown",
   "metadata": {},
   "source": [
    "### Data Modeling \n",
    "First, I found the drink with the highest and lowest numbers of nutritional data in each section..."
   ]
  },
  {
   "cell_type": "markdown",
   "metadata": {},
   "source": [
    "#### Min Nutritional Data"
   ]
  },
  {
   "cell_type": "code",
   "execution_count": 28,
   "metadata": {},
   "outputs": [
    {
     "name": "stdout",
     "output_type": "stream",
     "text": [
      "Min calories: Tazo® Tea\n",
      "Min fat: Caffè Americano\n",
      "Min sodium: Brewed Coffee\n",
      "Min cholesterol: Brewed Coffee\n",
      "Min sugar: Brewed Coffee\n",
      "Min protein: Caramel Apple Spice (Without Whipped Cream)\n",
      "Min caffeine: Iced Brewed Coffee (With Milk & Classic Syrup)\n"
     ]
    }
   ],
   "source": [
    "#here i used the min() fxn to find the min overall \n",
    "min_cal = min(calories)\n",
    "cal_index = calories.index(min_cal)\n",
    "print(\"Min calories:\", drink_name[cal_index])\n",
    "\n",
    "min_fat = min(total_fat)\n",
    "fat_index = total_fat.index(min_fat)\n",
    "print(\"Min fat:\", drink_name[fat_index])\n",
    "\n",
    "min_sodium = min(sodium)\n",
    "sodium_index = sodium.index(min_sodium)\n",
    "print(\"Min sodium:\", drink_name[sodium_index])\n",
    "\n",
    "min_chol = min(cholesterol)\n",
    "chol_index = cholesterol.index(min_chol)\n",
    "print(\"Min cholesterol:\", drink_name[chol_index])\n",
    "\n",
    "min_sugar = min(sugar)\n",
    "sugar_index = sugar.index(min_sugar)\n",
    "print(\"Min sugar:\", drink_name[sugar_index])\n",
    "\n",
    "min_protein = min(protein)\n",
    "protein_index = protein.index(min_protein)\n",
    "print(\"Min protein:\", drink_name[protein_index])\n",
    "\n",
    "min_caff = min(caffeine)\n",
    "caffeine_index = caffeine.index(min_caff)\n",
    "print(\"Min caffeine:\", drink_name[caffeine_index])"
   ]
  },
  {
   "cell_type": "markdown",
   "metadata": {},
   "source": [
    "#### Max Nutritional Data"
   ]
  },
  {
   "cell_type": "code",
   "execution_count": 29,
   "metadata": {},
   "outputs": [
    {
     "name": "stdout",
     "output_type": "stream",
     "text": [
      "Max calories: White Chocolate Mocha (Without Whipped Cream)\n",
      "Max fat: Caffè Latte\n",
      "Max sodium: Caffè Latte\n",
      "Max cholesterol: Java Chip (Without Whipped Cream)\n",
      "Max sugar: Java Chip (Without Whipped Cream)\n",
      "Max protein: Banana Chocolate Smoothie\n",
      "Max caffeine: Tazo® Full-Leaf Tea Latte\n"
     ]
    }
   ],
   "source": [
    "#here i used the max() fxn to find the max overall \n",
    "max_cal = max(calories)\n",
    "max_cal_index = calories.index(max_cal)\n",
    "print(\"Max calories:\", drink_name[max_cal_index])\n",
    "\n",
    "max_fat = max(total_fat)\n",
    "max_fat_index = total_fat.index(max_fat)\n",
    "print(\"Max fat:\", drink_name[max_fat_index])\n",
    "\n",
    "max_sodium = max(sodium)\n",
    "max_sodium_index = sodium.index(max_sodium)\n",
    "print(\"Max sodium:\", drink_name[max_sodium_index])\n",
    "\n",
    "max_chol = max(cholesterol)\n",
    "max_chol_index = cholesterol.index(max_chol)\n",
    "print(\"Max cholesterol:\", drink_name[max_chol_index])\n",
    "\n",
    "max_sugar = max(sugar)\n",
    "max_sugar_index = sugar.index(max_sugar)\n",
    "print(\"Max sugar:\", drink_name[max_sugar_index])\n",
    "\n",
    "max_protein = max(protein)\n",
    "max_protein_index = protein.index(max_protein)\n",
    "print(\"Max protein:\", drink_name[max_protein_index])\n",
    "\n",
    "max_caff = max(caffeine)\n",
    "max_caffeine_index = caffeine.index(max_caff)\n",
    "print(\"Max caffeine:\", drink_name[max_caffeine_index])"
   ]
  },
  {
   "cell_type": "markdown",
   "metadata": {},
   "source": [
    "#### Number of Total Drinks"
   ]
  },
  {
   "cell_type": "code",
   "execution_count": 30,
   "metadata": {},
   "outputs": [
    {
     "name": "stdout",
     "output_type": "stream",
     "text": [
      "There are 242 Starbucks drinks.\n"
     ]
    }
   ],
   "source": [
    "print(\"There are\", len(drink_name), \"Starbucks drinks.\")"
   ]
  },
  {
   "cell_type": "markdown",
   "metadata": {},
   "source": [
    "#### Percent of 2% Milk Drinks"
   ]
  },
  {
   "cell_type": "code",
   "execution_count": 31,
   "metadata": {},
   "outputs": [
    {
     "name": "stdout",
     "output_type": "stream",
     "text": [
      "There are 50 drinks that use 2% Milk.\n",
      "This makes up 20.66% of drinks.\n"
     ]
    }
   ],
   "source": [
    "count = 0\n",
    "for x in beverage_prep:\n",
    "    if x == \"2% Milk\":\n",
    "        count = count + 1\n",
    "print(\"There are\", count, \"drinks that use 2% Milk.\")\n",
    "total = count/len(drink_name)\n",
    "print(\"This makes up %.2f%% of drinks.\"% (total*100))"
   ]
  },
  {
   "cell_type": "markdown",
   "metadata": {},
   "source": [
    "### Data Analysis \n",
    "\n",
    "Will my modeling I found that the drink which consistently showed up within the minimum nutritional data analysis was the Brewed Coffee. The Brewed Coffee had the least sodium, cholesterol, and sugar of all 242 total starbucks drinks (I also found this total number).\n",
    "I also found that drink that had the the most within the maximum nutritional data analysis was the Java Chip Frappachino and the Caffè Latte. The Caffè Latte had the most fat and sodium, while the Java Chip Frappachino had the most cholesterol and sugar. \n",
    "This implies that the least healthy drinks are the Caffè Latte and the Java Chip Frappachino, while the healthiest drink is the Brewed Coffee.\n",
    "This conclusion makes logical, valid sense because the Brewed Coffee has the least added ingredients and the concluded \"unhealthy\" drinks have a lot of ingredients. \n",
    "\n",
    "I also found that the percentage of drinks that included 2% milk is 20.66. This goes to show that if you are lactose intolerant, you have around a 4/5 chance of getting a drink that will not upset your allergy. Luckily, you always have the convienent opportunity to ask for a dairy substitute. "
   ]
  },
  {
   "cell_type": "markdown",
   "metadata": {},
   "source": [
    "### Conclusion\n",
    "\n",
    "This data raises many questions. Some of them being: Is it hard to dine at Starbucks and be vegan? What does the food nutritional data show? What is the most unhealthy meal possible at Starbucks? \n",
    "\n",
    "The data also posed questions towards the validity and legitamacy of the data collection, as it did in the last lab. Some being: Are there any flaws in the data? How accurate are these numbers? Has the nutritional data changed since this data was collected? \n",
    "It would be interesting to dive deeper into these questions because, living in Seattle, there seems to be a Starbucks on every corner. "
   ]
  },
  {
   "cell_type": "markdown",
   "metadata": {},
   "source": [
    "### Acknowledgements\n",
    "I also used sample code for my data preparation and analysis from Ms.Sconyers's Python intro document on jupyter notebooks. I recieved help from Ms.Sconyers with simplifying long integers through the %.2f system. Lillian Ellis helped me to sort my list indexes through the .index() function. Again, I recieved my Starbucks Nutritional Data from the following source: https://www.kaggle.com/starbucks/starbucks-menu"
   ]
  },
  {
   "cell_type": "code",
   "execution_count": null,
   "metadata": {
    "collapsed": true
   },
   "outputs": [],
   "source": []
  }
 ],
 "metadata": {
  "kernelspec": {
   "display_name": "Python 3",
   "language": "python",
   "name": "python3"
  },
  "language_info": {
   "codemirror_mode": {
    "name": "ipython",
    "version": 3
   },
   "file_extension": ".py",
   "mimetype": "text/x-python",
   "name": "python",
   "nbconvert_exporter": "python",
   "pygments_lexer": "ipython3",
   "version": "3.6.3"
  }
 },
 "nbformat": 4,
 "nbformat_minor": 2
}
